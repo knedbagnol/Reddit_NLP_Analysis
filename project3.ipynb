{
 "cells": [
  {
   "cell_type": "markdown",
   "id": "0d945e1c-910c-4bce-ae2d-af79c82ce40b",
   "metadata": {},
   "source": [
    "# Table of Contents\n",
    "\n",
    "   * [Data Collection](#DC)\n",
    "   * [Data Cleaning](#DCL)\n",
    "   * [Summarize Self Text](#SST)\n",
    "   * [Sentiment Analysis](#SA)\n",
    "   * [Cvec on MNB Model with Sentiment Analysis](#CVMBS)\n",
    "   * [Tf-Idf on MNB Model with Sentiment Analysis](#TFMBS)\n",
    "   * [Cvec on MNB Model](#CVMB)\n",
    "   * [Tf-Idf on MNB Model](#TFMB)\n",
    "   * [Tf-Idf on Logistic Regression Model](#TFLOG)\n",
    "   * [Tf-Idf on Random Forest](#TFRF)\n",
    "   * [Tf-Idf on Decision Tree](#TFDT)\n",
    "   * [Tf-Idf on SVM](#TFSVM)"
   ]
  },
  {
   "cell_type": "code",
   "execution_count": 1,
   "id": "40b4e31b-d55c-4c22-b4cd-9c80dec7f9f2",
   "metadata": {},
   "outputs": [],
   "source": [
    "import requests \n",
    "import pandas as pd\n",
    "import numpy as np\n",
    "import matplotlib.pyplot as plt\n",
    "import praw\n",
    "from sklearn.linear_model import LinearRegression, LogisticRegression\n",
    "from sklearn.metrics import confusion_matrix, plot_confusion_matrix, roc_auc_score, plot_roc_curve\n",
    "from sklearn.pipeline import Pipeline\n",
    "from sklearn.compose import ColumnTransformer\n",
    "from sklearn.naive_bayes import MultinomialNB\n",
    "from sklearn.feature_extraction.text import CountVectorizer, TfidfVectorizer\n",
    "from sklearn.svm import SVC\n",
    "from sklearn.neighbors import KNeighborsClassifier\n",
    "from sklearn.ensemble import RandomForestClassifier\n",
    "from sklearn.tree import DecisionTreeClassifier\n",
    "from sklearn.model_selection import train_test_split, cross_val_score, GridSearchCV\n",
    "\n",
    "pd.set_option('display.max_colwidth', None)"
   ]
  },
  {
   "cell_type": "markdown",
   "id": "90c14b71-2194-4367-b1fe-6726cc288faa",
   "metadata": {},
   "source": [
    "## DATA COLLECTION <a class=\"anchor\" id=\"DC\"></a>"
   ]
  },
  {
   "cell_type": "code",
   "execution_count": 2,
   "id": "e618ea7a-3051-42b6-8d57-a0d28ea763c6",
   "metadata": {},
   "outputs": [],
   "source": [
    "# Shout out to thomaz for telling me about this API, much better than pushshift\n",
    "# uses PRAW (Python Reddit API Wrapper)\n",
    "\n",
    "user_agent = 'Scraper 1 by ken'\n",
    "reddit = praw.Reddit(\n",
    "    client_id = 'QrCPchQTYLF9ZPC4arCAPg',\n",
    "    client_secret = 'A4y7OySKS_2aUY4FnmWlkgHFiZA56Q',\n",
    "    user_agent = user_agent\n",
    ")"
   ]
  },
  {
   "cell_type": "code",
   "execution_count": 3,
   "id": "54c2f566-c133-4efc-a0f2-8481ba5e5746",
   "metadata": {
    "tags": []
   },
   "outputs": [
    {
     "data": {
      "text/html": [
       "<div>\n",
       "<style scoped>\n",
       "    .dataframe tbody tr th:only-of-type {\n",
       "        vertical-align: middle;\n",
       "    }\n",
       "\n",
       "    .dataframe tbody tr th {\n",
       "        vertical-align: top;\n",
       "    }\n",
       "\n",
       "    .dataframe thead th {\n",
       "        text-align: right;\n",
       "    }\n",
       "</style>\n",
       "<table border=\"1\" class=\"dataframe\">\n",
       "  <thead>\n",
       "    <tr style=\"text-align: right;\">\n",
       "      <th></th>\n",
       "      <th>title</th>\n",
       "      <th>subreddit</th>\n",
       "      <th>selftext</th>\n",
       "    </tr>\n",
       "  </thead>\n",
       "  <tbody>\n",
       "    <tr>\n",
       "      <th>0</th>\n",
       "      <td>Contrary to popular belief about guys, the single men I know keep their homes exceptionally clean. What male stereotypes don’t apply to you?</td>\n",
       "      <td>AskMen</td>\n",
       "      <td></td>\n",
       "    </tr>\n",
       "    <tr>\n",
       "      <th>1</th>\n",
       "      <td>As an introvert, how do you feel about this quote by Jim Carrey? “Solitude is dangerous. It’s very addictive. It becomes a habit after you realize how calm and peaceful it is. It’s like you don’t want to deal with people anymore because they drain your energy.”</td>\n",
       "      <td>AskMen</td>\n",
       "      <td>Edit: Wow I did not expect this to this well! \\nDisclaimer: This post was first made in r/askwoman. I brought it over here to show more people. If you upvoted this upvote the main one: https://www.reddit.com/r/AskWomen/comments/9fu95q/as_an_introvert_how_do_you_feel_about_this_quote/</td>\n",
       "    </tr>\n",
       "    <tr>\n",
       "      <th>2</th>\n",
       "      <td>What did you not know or realize until after living with a woman?</td>\n",
       "      <td>AskMen</td>\n",
       "      <td>For example, I had no idea that you weren’t supposed to wash your hair everyday until after my girlfriend moved in.</td>\n",
       "    </tr>\n",
       "    <tr>\n",
       "      <th>3</th>\n",
       "      <td>Men of Reddit, how often have do/do you change your walk because you’re walking behind a woman late at night?</td>\n",
       "      <td>AskMen</td>\n",
       "      <td>This question is influenced by a video I saw where a guy explained that he was unintentionally the “creepy guy” because he was walking behind a woman in a park. As a woman it honestly never occurred to me that innocent men can be deemed as creepy just because they just so happen to be walking the same direction. Is this something you guys naturally take into consideration when walking?\\n\\nEdit: WOW I was not expecting this much of a response\\n\\nEdit: Thanks to u/Ok-Brother-2337 for sending me such a lovely message calling me a dumb, unattractive, attention seeker for just asking an innocent question.</td>\n",
       "    </tr>\n",
       "    <tr>\n",
       "      <th>4</th>\n",
       "      <td>How can you work a 9 to 5 Job with only the Weekends and 4 weeks per year Off without getting the feeling of waisting your life?</td>\n",
       "      <td>AskMen</td>\n",
       "      <td>I(16m) have been looking what i could do after graduating  school  and realised that this all is shit how can somebody be ok with Working a 9 to 5 Job sitting in a Office Coming home just to do this pointless shit the next morning again. Always do what your Boss says only having  the Weekends and 4 weeks per year Off and wasting your life doing the same shit over and over again. I mean thats One of the most   depressing  things i've ever heard of \\n\\nSorry for errors english isnt my Standart language</td>\n",
       "    </tr>\n",
       "  </tbody>\n",
       "</table>\n",
       "</div>"
      ],
      "text/plain": [
       "                                                                                                                                                                                                                                                                   title  \\\n",
       "0                                                                                                                           Contrary to popular belief about guys, the single men I know keep their homes exceptionally clean. What male stereotypes don’t apply to you?   \n",
       "1  As an introvert, how do you feel about this quote by Jim Carrey? “Solitude is dangerous. It’s very addictive. It becomes a habit after you realize how calm and peaceful it is. It’s like you don’t want to deal with people anymore because they drain your energy.”   \n",
       "2                                                                                                                                                                                                      What did you not know or realize until after living with a woman?   \n",
       "3                                                                                                                                                          Men of Reddit, how often have do/do you change your walk because you’re walking behind a woman late at night?   \n",
       "4                                                                                                                                       How can you work a 9 to 5 Job with only the Weekends and 4 weeks per year Off without getting the feeling of waisting your life?   \n",
       "\n",
       "  subreddit  \\\n",
       "0    AskMen   \n",
       "1    AskMen   \n",
       "2    AskMen   \n",
       "3    AskMen   \n",
       "4    AskMen   \n",
       "\n",
       "                                                                                                                                                                                                                                                                                                                                                                                                                                                                                                                                                                                                                          selftext  \n",
       "0                                                                                                                                                                                                                                                                                                                                                                                                                                                                                                                                                                                                                                   \n",
       "1                                                                                                                                                                                                                                                                                                                                     Edit: Wow I did not expect this to this well! \\nDisclaimer: This post was first made in r/askwoman. I brought it over here to show more people. If you upvoted this upvote the main one: https://www.reddit.com/r/AskWomen/comments/9fu95q/as_an_introvert_how_do_you_feel_about_this_quote/  \n",
       "2                                                                                                                                                                                                                                                                                                                                                                                                                                                                                                              For example, I had no idea that you weren’t supposed to wash your hair everyday until after my girlfriend moved in.  \n",
       "3  This question is influenced by a video I saw where a guy explained that he was unintentionally the “creepy guy” because he was walking behind a woman in a park. As a woman it honestly never occurred to me that innocent men can be deemed as creepy just because they just so happen to be walking the same direction. Is this something you guys naturally take into consideration when walking?\\n\\nEdit: WOW I was not expecting this much of a response\\n\\nEdit: Thanks to u/Ok-Brother-2337 for sending me such a lovely message calling me a dumb, unattractive, attention seeker for just asking an innocent question.  \n",
       "4                                                                                                        I(16m) have been looking what i could do after graduating  school  and realised that this all is shit how can somebody be ok with Working a 9 to 5 Job sitting in a Office Coming home just to do this pointless shit the next morning again. Always do what your Boss says only having  the Weekends and 4 weeks per year Off and wasting your life doing the same shit over and over again. I mean thats One of the most   depressing  things i've ever heard of \\n\\nSorry for errors english isnt my Standart language  "
      ]
     },
     "execution_count": 3,
     "metadata": {},
     "output_type": "execute_result"
    }
   ],
   "source": [
    "# Creating the df from the askmen subreddit\n",
    "ask_men = []\n",
    "for submission in reddit.subreddit('askmen').top('year', limit = 1000):\n",
    "    data = {}\n",
    "    data['title'] = submission.title\n",
    "    data['subreddit'] = submission.subreddit\n",
    "    data['selftext'] = submission.selftext\n",
    "    ask_men.append(data)\n",
    "\n",
    "askmen_df = pd.DataFrame(ask_men)\n",
    "askmen_df.head()"
   ]
  },
  {
   "cell_type": "code",
   "execution_count": 4,
   "id": "d1779ebd-c856-41c5-a532-25eb3216d550",
   "metadata": {},
   "outputs": [
    {
     "data": {
      "text/html": [
       "<div>\n",
       "<style scoped>\n",
       "    .dataframe tbody tr th:only-of-type {\n",
       "        vertical-align: middle;\n",
       "    }\n",
       "\n",
       "    .dataframe tbody tr th {\n",
       "        vertical-align: top;\n",
       "    }\n",
       "\n",
       "    .dataframe thead th {\n",
       "        text-align: right;\n",
       "    }\n",
       "</style>\n",
       "<table border=\"1\" class=\"dataframe\">\n",
       "  <thead>\n",
       "    <tr style=\"text-align: right;\">\n",
       "      <th></th>\n",
       "      <th>title</th>\n",
       "      <th>subreddit</th>\n",
       "      <th>selftext</th>\n",
       "    </tr>\n",
       "  </thead>\n",
       "  <tbody>\n",
       "    <tr>\n",
       "      <th>0</th>\n",
       "      <td>When Kamala Harris said ‘I am speaking’ while she was being interrupted over and over, how did that resonate with you?</td>\n",
       "      <td>AskWomen</td>\n",
       "      <td>Sorry guys - this post has gotten traction because it resonated with a lot of people but the mods have locked it indefinitely. \\n\\nI posted this question to understand what a moment felt for many women after I saw my own sister wince. It’s small question but the response has been powerful. I feel a lot of people can be heard and a lot of people like myself can learn.  \\n\\nHopefully if they open this sooner rather than later, we can hear more experiences and comments geared towards the question in hand. I am not sure exactly why this question in particular has been locked for this long.\\n\\nEdit 2: it’s been a month and it’s looking like this post was locked because of its content as opposed to clearing out any comments as the mods have suggested. Wonder if they had an issue with the question or the Kamala Harris?</td>\n",
       "    </tr>\n",
       "    <tr>\n",
       "      <th>1</th>\n",
       "      <td>\"Men apply for a job when they meet only 60% of the qualifications, but women apply only if they meet 100% of them.\" - What are your thoughts on this?</td>\n",
       "      <td>AskWomen</td>\n",
       "      <td>Source: [https://hbr.org/2014/08/why-women-dont-apply-for-jobs-unless-theyre-100-qualified](https://hbr.org/2014/08/why-women-dont-apply-for-jobs-unless-theyre-100-qualified) \\n\\nI feel like the impostor syndrome women feel is real!</td>\n",
       "    </tr>\n",
       "    <tr>\n",
       "      <th>2</th>\n",
       "      <td>For those of you down to your last hair tie, how long has it been since you noticed and have started treasuring it like a very rare diamond?</td>\n",
       "      <td>AskWomen</td>\n",
       "      <td>Edit: the number of you brilliant people who have replied with some form of \"my precious\" is my new favourite thing.\\n\\nGod love you all.\\n\\nEdit 2: A very large number of you have cats who eat your hair ties. I'm not a pet owner but please, please look after your fur babies. This doesn't sound healthy for them.\\n\\nEdit 3: I can't keep up with the replies to this any more. I hope all of you who read this have a lovely day.</td>\n",
       "    </tr>\n",
       "    <tr>\n",
       "      <th>3</th>\n",
       "      <td>If you had a friend who spoke to you in the same way you sometimes speak to yourself, how long would you allow this person to be your friend?</td>\n",
       "      <td>AskWomen</td>\n",
       "      <td></td>\n",
       "    </tr>\n",
       "    <tr>\n",
       "      <th>4</th>\n",
       "      <td>What was your reaction when you heard about the Norway women's handball team being fined and threatened with disqualification for wanting to wear shorts instead of bikini bottoms?</td>\n",
       "      <td>AskWomen</td>\n",
       "      <td></td>\n",
       "    </tr>\n",
       "  </tbody>\n",
       "</table>\n",
       "</div>"
      ],
      "text/plain": [
       "                                                                                                                                                                                 title  \\\n",
       "0                                                               When Kamala Harris said ‘I am speaking’ while she was being interrupted over and over, how did that resonate with you?   \n",
       "1                               \"Men apply for a job when they meet only 60% of the qualifications, but women apply only if they meet 100% of them.\" - What are your thoughts on this?   \n",
       "2                                         For those of you down to your last hair tie, how long has it been since you noticed and have started treasuring it like a very rare diamond?   \n",
       "3                                        If you had a friend who spoke to you in the same way you sometimes speak to yourself, how long would you allow this person to be your friend?   \n",
       "4  What was your reaction when you heard about the Norway women's handball team being fined and threatened with disqualification for wanting to wear shorts instead of bikini bottoms?   \n",
       "\n",
       "  subreddit  \\\n",
       "0  AskWomen   \n",
       "1  AskWomen   \n",
       "2  AskWomen   \n",
       "3  AskWomen   \n",
       "4  AskWomen   \n",
       "\n",
       "                                                                                                                                                                                                                                                                                                                                                                                                                                                                                                                                                                                                                                                                                                                                                                                                                                                  selftext  \n",
       "0  Sorry guys - this post has gotten traction because it resonated with a lot of people but the mods have locked it indefinitely. \\n\\nI posted this question to understand what a moment felt for many women after I saw my own sister wince. It’s small question but the response has been powerful. I feel a lot of people can be heard and a lot of people like myself can learn.  \\n\\nHopefully if they open this sooner rather than later, we can hear more experiences and comments geared towards the question in hand. I am not sure exactly why this question in particular has been locked for this long.\\n\\nEdit 2: it’s been a month and it’s looking like this post was locked because of its content as opposed to clearing out any comments as the mods have suggested. Wonder if they had an issue with the question or the Kamala Harris?  \n",
       "1                                                                                                                                                                                                                                                                                                                                                                                                                                                                                                                                                                                                                 Source: [https://hbr.org/2014/08/why-women-dont-apply-for-jobs-unless-theyre-100-qualified](https://hbr.org/2014/08/why-women-dont-apply-for-jobs-unless-theyre-100-qualified) \\n\\nI feel like the impostor syndrome women feel is real!  \n",
       "2                                                                                                                                                                                                                                                                                                                                                                                                               Edit: the number of you brilliant people who have replied with some form of \"my precious\" is my new favourite thing.\\n\\nGod love you all.\\n\\nEdit 2: A very large number of you have cats who eat your hair ties. I'm not a pet owner but please, please look after your fur babies. This doesn't sound healthy for them.\\n\\nEdit 3: I can't keep up with the replies to this any more. I hope all of you who read this have a lovely day.  \n",
       "3                                                                                                                                                                                                                                                                                                                                                                                                                                                                                                                                                                                                                                                                                                                                                                                                                                                           \n",
       "4                                                                                                                                                                                                                                                                                                                                                                                                                                                                                                                                                                                                                                                                                                                                                                                                                                                           "
      ]
     },
     "execution_count": 4,
     "metadata": {},
     "output_type": "execute_result"
    }
   ],
   "source": [
    "#creating the df from the askwomen subreddit\n",
    "ask_women = []\n",
    "for submission in reddit.subreddit('askwomen').top('year', limit = 1000):\n",
    "    data = {}\n",
    "    data['title'] = submission.title\n",
    "    data['subreddit'] = submission.subreddit\n",
    "    data['selftext'] = submission.selftext\n",
    "    ask_women.append(data)\n",
    "\n",
    "askwomen_df = pd.DataFrame(ask_women)\n",
    "askwomen_df.head()"
   ]
  },
  {
   "cell_type": "code",
   "execution_count": 5,
   "id": "086eaaa7-10c8-4085-bba8-6ceeb47cea03",
   "metadata": {},
   "outputs": [],
   "source": [
    "#creating one big df\n",
    "df = askmen_df.append(askwomen_df)"
   ]
  },
  {
   "cell_type": "markdown",
   "id": "324a62ed-c130-4f9f-b094-89bf888a2216",
   "metadata": {},
   "source": [
    "## DATA CLEANING <a class=\"anchor\" id=\"CL\"></a>"
   ]
  },
  {
   "cell_type": "code",
   "execution_count": 6,
   "id": "962ef480-7252-4d27-af5a-dc40db42a3a3",
   "metadata": {},
   "outputs": [],
   "source": [
    "# changing the target variable \n",
    "df['subreddit'] = [0 if sub == 'AskMen' else 1 for sub in df['subreddit']]"
   ]
  },
  {
   "cell_type": "code",
   "execution_count": 7,
   "id": "2b8bc63f-757d-4abb-a180-8126bd653200",
   "metadata": {},
   "outputs": [
    {
     "data": {
      "text/plain": [
       "title        0\n",
       "subreddit    0\n",
       "selftext     0\n",
       "dtype: int64"
      ]
     },
     "execution_count": 7,
     "metadata": {},
     "output_type": "execute_result"
    }
   ],
   "source": [
    "#checking for null values\n",
    "df.isna().sum()"
   ]
  },
  {
   "cell_type": "code",
   "execution_count": 8,
   "id": "fd67f60e-070f-4963-87b7-c387c6be317d",
   "metadata": {},
   "outputs": [],
   "source": [
    "# creating one column of text so we can feed it into count vec\n",
    "df['text'] = df['title'] + df['selftext']"
   ]
  },
  {
   "cell_type": "code",
   "execution_count": 9,
   "id": "ac4ac05c-8d0b-4997-b75d-492bf3135211",
   "metadata": {},
   "outputs": [],
   "source": [
    "# resetting index so we can do sentiment analysis\n",
    "df.reset_index(inplace = True)"
   ]
  },
  {
   "cell_type": "code",
   "execution_count": 10,
   "id": "bfb713a0-cd25-46b4-b2d5-3efdf76f8579",
   "metadata": {},
   "outputs": [],
   "source": [
    "# #import nltk language cleaning, imported all of these to make a function to clean text, spent too long on it, but then countvect and tfdf just do it automatically...\n",
    "# import nltk\n",
    "# from nltk.tokenize import word_tokenize\n",
    "# from nltk.corpus import stopwords\n",
    "# from nltk.stem import SnowballStemmer"
   ]
  },
  {
   "cell_type": "code",
   "execution_count": 11,
   "id": "e26c4114-3a30-4af4-859c-ee3c061255e6",
   "metadata": {},
   "outputs": [],
   "source": [
    "# # function that returns cleaned text, stopwords removed, unnecessary punctuation removed, text lowered\n",
    "# def text_cleaner(text):\n",
    "#     snowball = SnowballStemmer(language = 'english')\n",
    "#     text = text.apply(word_tokenize)\n",
    "#     stop_words = stopwords.words('english')\n",
    "#     new_stop = ['?', \"'\", 'guys', 'girls', 'women', 'men', 'male', 'female', 'girl', ',', '.']\n",
    "#     stop_words = stop_words + new_stop\n",
    "#     clean_text = []\n",
    "#     for t in text:\n",
    "#         t = [snowball.stem(w.lower()) for w in t if not w.lower() in stop_words]\n",
    "#         clean_text.append(t)\n",
    "#     cleaned = {'a':clean_text}\n",
    "#     return pd.DataFrame(cleaned)"
   ]
  },
  {
   "cell_type": "code",
   "execution_count": 12,
   "id": "f87cfd4e-b65a-4316-97dd-467039eb78fd",
   "metadata": {},
   "outputs": [],
   "source": [
    "# # cleaning text\n",
    "# df_3['title'] = text_cleaner(df_3['title'])\n",
    "# df_3['selftext'] = text_cleaner(df_3['selftext'])"
   ]
  },
  {
   "cell_type": "markdown",
   "id": "714f5e28-fb27-4144-8d08-c504919f74dc",
   "metadata": {},
   "source": [
    "## Summarize SelfText <a class=\"anchor\" id=\"SST\"></a>"
   ]
  },
  {
   "cell_type": "code",
   "execution_count": 13,
   "id": "b263fa15-ead0-428b-a145-0f04e264989c",
   "metadata": {
    "tags": []
   },
   "outputs": [],
   "source": [
    "# So I was going to use summarize on the selftext and then run a sentiment analysis, but the summarize text took way too long to run on my model so I decided to leave this out\n",
    "# summarize = pipeline('summarization')"
   ]
  },
  {
   "cell_type": "code",
   "execution_count": 14,
   "id": "f2eb74ac-de2c-4b00-bf77-09f71d9e3d29",
   "metadata": {
    "tags": []
   },
   "outputs": [],
   "source": [
    "# df['selftext'] = df['selftext'].apply(summarize())"
   ]
  },
  {
   "cell_type": "markdown",
   "id": "3379c564-4b8d-4408-83ff-beb88eb1c2e5",
   "metadata": {},
   "source": [
    "## Sentiment Analysis <a class=\"anchor\" id=\"SA\"></a>"
   ]
  },
  {
   "cell_type": "code",
   "execution_count": 15,
   "id": "e65b3a2c-53ee-4d3d-8e63-3f2c5d2ba207",
   "metadata": {
    "tags": []
   },
   "outputs": [
    {
     "name": "stderr",
     "output_type": "stream",
     "text": [
      "No model was supplied, defaulted to distilbert-base-uncased-finetuned-sst-2-english (https://huggingface.co/distilbert-base-uncased-finetuned-sst-2-english)\n",
      "All model checkpoint layers were used when initializing TFDistilBertForSequenceClassification.\n",
      "\n",
      "All the layers of TFDistilBertForSequenceClassification were initialized from the model checkpoint at distilbert-base-uncased-finetuned-sst-2-english.\n",
      "If your task is similar to the task the model of the checkpoint was trained on, you can already use TFDistilBertForSequenceClassification for predictions without further training.\n"
     ]
    }
   ],
   "source": [
    "# here we will add a sentiment analysis to see if the posts on either subreddit are more negative or positive\n",
    "# so I ran sentiment analysis on just the titles, but it didn't turn out to be as helpful as I thought. Firstly, the distribution of negative vs positive titles was roughly the same across the subreddits. But the main problem was the the sentiment\n",
    "# analysis was not analyzing the questions properly. For example, it rated the question \"what makes you feel feminine\" as highly negative which is definitely not true and as I looked through the examples there were more and more like that.\n",
    "# I believe the problem is that question aren't inherently positive or negative and can be quite neutral, therefore the sentiment analysis doesn't really work on them. It does slight make my scores better, but hard to say definitively that it helped.\n",
    "from transformers import pipeline\n",
    "sent = pipeline('sentiment-analysis')"
   ]
  },
  {
   "cell_type": "code",
   "execution_count": 16,
   "id": "4778b8d5-8fd1-4479-8602-377087537d29",
   "metadata": {
    "tags": []
   },
   "outputs": [],
   "source": [
    "# creating new column with analysis of sentiment\n",
    "df['sent'] = df['title'].apply(sent)"
   ]
  },
  {
   "cell_type": "code",
   "execution_count": 17,
   "id": "626c54e6-3650-4508-a45b-f17b1ec5e1b9",
   "metadata": {},
   "outputs": [],
   "source": [
    "# creating a list of all the sentiment data so we can put it into a data frame\n",
    "sent_list = []\n",
    "for i, v in enumerate(df['sent']):\n",
    "    sent_list.append(v[0])"
   ]
  },
  {
   "cell_type": "code",
   "execution_count": 18,
   "id": "7ba8e5ae-66cb-4fc0-862c-abd58758f76f",
   "metadata": {},
   "outputs": [
    {
     "data": {
      "text/html": [
       "<div>\n",
       "<style scoped>\n",
       "    .dataframe tbody tr th:only-of-type {\n",
       "        vertical-align: middle;\n",
       "    }\n",
       "\n",
       "    .dataframe tbody tr th {\n",
       "        vertical-align: top;\n",
       "    }\n",
       "\n",
       "    .dataframe thead th {\n",
       "        text-align: right;\n",
       "    }\n",
       "</style>\n",
       "<table border=\"1\" class=\"dataframe\">\n",
       "  <thead>\n",
       "    <tr style=\"text-align: right;\">\n",
       "      <th></th>\n",
       "      <th>label</th>\n",
       "      <th>score</th>\n",
       "    </tr>\n",
       "  </thead>\n",
       "  <tbody>\n",
       "    <tr>\n",
       "      <th>0</th>\n",
       "      <td>POSITIVE</td>\n",
       "      <td>0.982284</td>\n",
       "    </tr>\n",
       "    <tr>\n",
       "      <th>1</th>\n",
       "      <td>NEGATIVE</td>\n",
       "      <td>0.914297</td>\n",
       "    </tr>\n",
       "    <tr>\n",
       "      <th>2</th>\n",
       "      <td>NEGATIVE</td>\n",
       "      <td>0.980875</td>\n",
       "    </tr>\n",
       "    <tr>\n",
       "      <th>3</th>\n",
       "      <td>NEGATIVE</td>\n",
       "      <td>0.991641</td>\n",
       "    </tr>\n",
       "    <tr>\n",
       "      <th>4</th>\n",
       "      <td>NEGATIVE</td>\n",
       "      <td>0.997510</td>\n",
       "    </tr>\n",
       "    <tr>\n",
       "      <th>...</th>\n",
       "      <td>...</td>\n",
       "      <td>...</td>\n",
       "    </tr>\n",
       "    <tr>\n",
       "      <th>1991</th>\n",
       "      <td>NEGATIVE</td>\n",
       "      <td>0.993568</td>\n",
       "    </tr>\n",
       "    <tr>\n",
       "      <th>1992</th>\n",
       "      <td>POSITIVE</td>\n",
       "      <td>0.997628</td>\n",
       "    </tr>\n",
       "    <tr>\n",
       "      <th>1993</th>\n",
       "      <td>NEGATIVE</td>\n",
       "      <td>0.989111</td>\n",
       "    </tr>\n",
       "    <tr>\n",
       "      <th>1994</th>\n",
       "      <td>POSITIVE</td>\n",
       "      <td>0.996736</td>\n",
       "    </tr>\n",
       "    <tr>\n",
       "      <th>1995</th>\n",
       "      <td>POSITIVE</td>\n",
       "      <td>0.999605</td>\n",
       "    </tr>\n",
       "  </tbody>\n",
       "</table>\n",
       "<p>1996 rows × 2 columns</p>\n",
       "</div>"
      ],
      "text/plain": [
       "         label     score\n",
       "0     POSITIVE  0.982284\n",
       "1     NEGATIVE  0.914297\n",
       "2     NEGATIVE  0.980875\n",
       "3     NEGATIVE  0.991641\n",
       "4     NEGATIVE  0.997510\n",
       "...        ...       ...\n",
       "1991  NEGATIVE  0.993568\n",
       "1992  POSITIVE  0.997628\n",
       "1993  NEGATIVE  0.989111\n",
       "1994  POSITIVE  0.996736\n",
       "1995  POSITIVE  0.999605\n",
       "\n",
       "[1996 rows x 2 columns]"
      ]
     },
     "execution_count": 18,
     "metadata": {},
     "output_type": "execute_result"
    }
   ],
   "source": [
    "# creating sentiment data frame\n",
    "sent_df = pd.DataFrame(sent_list)\n",
    "sent_df"
   ]
  },
  {
   "cell_type": "code",
   "execution_count": 19,
   "id": "2a99c0e4-1e28-484f-8844-9ddf342b7949",
   "metadata": {},
   "outputs": [],
   "source": [
    "# changing the label column to 1 and 0\n",
    "sent_df['label'] = sent_df['label'].map({'POSITIVE': 1, 'NEGATIVE': 0})"
   ]
  },
  {
   "cell_type": "code",
   "execution_count": 77,
   "id": "b1230624-302c-4bfd-ac68-fe772e0278b5",
   "metadata": {},
   "outputs": [],
   "source": [
    "# combining the data frames\n",
    "df = pd.concat([df, sent_df], axis =1)\n"
   ]
  },
  {
   "cell_type": "code",
   "execution_count": 21,
   "id": "4cf10e48-84c1-469f-a4f2-f0cd051d7b7e",
   "metadata": {},
   "outputs": [
    {
     "data": {
      "text/plain": [
       "0    0.790791\n",
       "1    0.209209\n",
       "Name: label, dtype: float64"
      ]
     },
     "execution_count": 21,
     "metadata": {},
     "output_type": "execute_result"
    }
   ],
   "source": [
    "# looking at percentage negative vs positive for men\n",
    "df.loc[df['subreddit']==0]['label'].value_counts(normalize = True)"
   ]
  },
  {
   "cell_type": "code",
   "execution_count": 22,
   "id": "86504eea-2f32-4ef6-bec1-c08160ce95c9",
   "metadata": {
    "tags": []
   },
   "outputs": [
    {
     "data": {
      "text/plain": [
       "0    0.746239\n",
       "1    0.253761\n",
       "Name: label, dtype: float64"
      ]
     },
     "execution_count": 22,
     "metadata": {},
     "output_type": "execute_result"
    }
   ],
   "source": [
    "# looking at percentage negative vs positive for women\n",
    "df.loc[df['subreddit']==1]['label'].value_counts(normalize = True)"
   ]
  },
  {
   "cell_type": "code",
   "execution_count": 23,
   "id": "5a5f68d8-9204-4346-a7db-46dcf71ced91",
   "metadata": {},
   "outputs": [],
   "source": [
    "# Function to plot confusion matrix and roc curve\n",
    "\n",
    "def cm_roc (model, X_test, y_test):\n",
    "\n",
    "\n",
    "    plot_confusion_matrix(model, X_test, y_test, cmap = \"Blues\");\n",
    "\n",
    "    # ROC curve\n",
    "    plot_roc_curve(model, X_test, y_test)\n",
    "    # add worst case scenario line\n",
    "    plt.plot([0,1], [0,1],\n",
    "            label = 'baseline', linestyle = '--')\n",
    "\n",
    "    # add a legend\n",
    "    plt.legend()"
   ]
  },
  {
   "cell_type": "markdown",
   "id": "7aa73797-d089-4de8-bc9a-6bd5024fb41d",
   "metadata": {},
   "source": [
    "## Count Vectorizer Transform (With Sentiment) With MNB Model <a class=\"anchor\" id=\"CVMBS\"></a>"
   ]
  },
  {
   "cell_type": "code",
   "execution_count": 78,
   "id": "9d80db13-6523-4d8f-89bf-8b5e912a5356",
   "metadata": {},
   "outputs": [],
   "source": [
    "#setting up our data\n",
    "X = df[['text', 'score', 'label']]\n",
    "y = df['subreddit']"
   ]
  },
  {
   "cell_type": "code",
   "execution_count": 25,
   "id": "c650ed83-1526-4b12-966e-60ebfbd9c825",
   "metadata": {
    "tags": []
   },
   "outputs": [],
   "source": [
    "#doing a train test split\n",
    "X_train, X_test, y_train, y_test = train_test_split(X,\n",
    "                                                    y,\n",
    "                                                    test_size=0.33,\n",
    "                                                    stratify=y,\n",
    "                                                    random_state=42)"
   ]
  },
  {
   "cell_type": "code",
   "execution_count": 26,
   "id": "be8730da-c78a-425b-be6a-f7da7bf40f0d",
   "metadata": {},
   "outputs": [],
   "source": [
    "ct = ColumnTransformer([\n",
    "    ## (name, transformer, column(s))\n",
    "    ## transformer can also be \"passthrough\" (to pass columns untransformed), or \"drop\" (to drop columns)\n",
    "    ('cvec', CountVectorizer(), 'text'),\n",
    "    ('pass', 'passthrough', ['score', 'label'])\n",
    "])"
   ]
  },
  {
   "cell_type": "code",
   "execution_count": 27,
   "id": "3e6caccc-21ab-4ee1-8f8d-b1cd0aabd217",
   "metadata": {},
   "outputs": [],
   "source": [
    "# setting up our pipe\n",
    "\n",
    "\n",
    "pipe_ct_cv_mb = Pipeline([\n",
    "    ('ct', ct),\n",
    "    ('mnb', MultinomialNB())\n",
    "])"
   ]
  },
  {
   "cell_type": "code",
   "execution_count": 28,
   "id": "a603db58-9cbe-4203-b57e-a7992d8ea1c2",
   "metadata": {},
   "outputs": [],
   "source": [
    "# Search over the following values of hyperparameters:\n",
    "# Maximum number of features fit: 2000, 3000, 4000, 5000\n",
    "# Minimum number of documents needed to include token: 2, 3\n",
    "# Maximum number of documents needed to include token: 90%, 95%\n",
    "# Check (individual tokens) and also check (individual tokens and 2-grams).\n",
    "\n",
    "pipectcvmb_params = {\n",
    "    'ct__cvec__max_features': [2000,3000,4000,5000, None],\n",
    "    'ct__cvec__min_df':[2, 3],\n",
    "    'ct__cvec__max_df':[0.9, 0.95],\n",
    "    'ct__cvec__ngram_range':[(1,1), (1,2)],\n",
    "    'ct__cvec__stop_words':[None, 'english']\n",
    "}"
   ]
  },
  {
   "cell_type": "code",
   "execution_count": 29,
   "id": "21aec112-e6f5-492b-b186-c31789730d97",
   "metadata": {},
   "outputs": [],
   "source": [
    "# setting up our gridsearch\n",
    "gs_ct_cv_mb = GridSearchCV(estimator = pipe_ct_cv_mb, # what object are we optimizing?\n",
    "                  param_grid = pipectcvmb_params, # what parameters values are we searching?\n",
    "                  cv = 5,\n",
    "                  verbose = 1) # 5-fold cross-validation."
   ]
  },
  {
   "cell_type": "code",
   "execution_count": 30,
   "id": "d9e3f77d-3588-4a61-ab43-af669681d650",
   "metadata": {
    "tags": []
   },
   "outputs": [
    {
     "name": "stdout",
     "output_type": "stream",
     "text": [
      "Fitting 5 folds for each of 80 candidates, totalling 400 fits\n",
      "Training Score: 0.8309648466716529\n",
      "Testing Score: 0.7556904400606981\n",
      "Best Score: 0.7741405332886131\n",
      "Best Params: {'ct__cvec__max_df': 0.9, 'ct__cvec__max_features': 4000, 'ct__cvec__min_df': 2, 'ct__cvec__ngram_range': (1, 2), 'ct__cvec__stop_words': None}\n"
     ]
    }
   ],
   "source": [
    "# Fit GridSearch to training data.\n",
    "gs_ct_cv_mb.fit(X_train, y_train)\n",
    "\n",
    "# training score\n",
    "print(f'Training Score: {gs_ct_cv_mb.score(X_train, y_train)}')\n",
    "\n",
    "# testing score\n",
    "print(f'Testing Score: {gs_ct_cv_mb.score(X_test, y_test)}')\n",
    "\n",
    "# best score\n",
    "print(f'Best Score: {gs_ct_cv_mb.best_score_}')\n",
    "\n",
    "# best params\n",
    "print(f'Best Params: {gs_ct_cv_mb.best_params_}')"
   ]
  },
  {
   "cell_type": "code",
   "execution_count": 31,
   "id": "60cc42df-cb32-48e4-b958-1bdb0d86497e",
   "metadata": {},
   "outputs": [
    {
     "data": {
      "image/png": "[encoded data removed]",
      "text/plain": [
       "<Figure size 432x288 with 2 Axes>"
      ]
     },
     "metadata": {
      "needs_background": "light"
     },
     "output_type": "display_data"
    },
    {
     "data": {
      "image/png": "[encoded data removed]",
      "text/plain": [
       "<Figure size 432x288 with 1 Axes>"
      ]
     },
     "metadata": {
      "needs_background": "light"
     },
     "output_type": "display_data"
    }
   ],
   "source": [
    "cm_roc(gs_ct_cv_mb, X_test, y_test)"
   ]
  },
  {
   "cell_type": "markdown",
   "id": "01c69fb0-301c-4ce0-8e27-4ccf3c4456f1",
   "metadata": {},
   "source": [
    "## CVEC with MNB <a class=\"anchor\" id=\"CVMB\"></a>"
   ]
  },
  {
   "cell_type": "code",
   "execution_count": 32,
   "id": "2f39f6c1-9de9-4f29-b21b-62de6f2a78b6",
   "metadata": {},
   "outputs": [],
   "source": [
    "X = df['text']\n",
    "y = df['subreddit']"
   ]
  },
  {
   "cell_type": "code",
   "execution_count": 33,
   "id": "c6f5c4ec-f0a7-4a5e-b43f-2231bf9b76e2",
   "metadata": {},
   "outputs": [],
   "source": [
    "X_train, X_test, y_train, y_test = train_test_split(X,\n",
    "                                                    y,\n",
    "                                                    test_size=0.33,\n",
    "                                                    stratify=y,\n",
    "                                                    random_state=42)"
   ]
  },
  {
   "cell_type": "code",
   "execution_count": 34,
   "id": "b9f6bf9a-a6dd-440d-83c8-2777322736bd",
   "metadata": {},
   "outputs": [],
   "source": [
    "pipe_cv_mb = Pipeline([\n",
    "    ('cvec', CountVectorizer()),\n",
    "    ('mnb', MultinomialNB())\n",
    "])"
   ]
  },
  {
   "cell_type": "code",
   "execution_count": 35,
   "id": "41f0b11a-71a1-4f5f-bfc2-09bbcdee9c60",
   "metadata": {},
   "outputs": [],
   "source": [
    "pipecvmb_params = {\n",
    "    'cvec__max_features': [2000,3000,4000,5000, None],\n",
    "    'cvec__min_df':[2, 3],\n",
    "    'cvec__max_df':[0.9, 0.95],\n",
    "    'cvec__ngram_range':[(1,1), (1,2)],\n",
    "    'cvec__stop_words':[None, 'english']\n",
    "}"
   ]
  },
  {
   "cell_type": "code",
   "execution_count": 36,
   "id": "d1585805-501f-4019-9c04-d55c39032f7d",
   "metadata": {},
   "outputs": [],
   "source": [
    "# setting up our gridsearch\n",
    "gs_cv_mb = GridSearchCV(estimator = pipe_cv_mb, # what object are we optimizing?\n",
    "                  param_grid = pipecvmb_params, # what parameters values are we searching?\n",
    "                  cv = 5,\n",
    "                  verbose = 1) # 5-fold cross-validation."
   ]
  },
  {
   "cell_type": "code",
   "execution_count": 37,
   "id": "f115d9a3-4e2b-4875-9b08-3ada3583da91",
   "metadata": {},
   "outputs": [
    {
     "name": "stdout",
     "output_type": "stream",
     "text": [
      "Fitting 5 folds for each of 80 candidates, totalling 400 fits\n",
      "Training Score: 0.8399401645474944\n",
      "Testing Score: 0.7632776934749621\n",
      "Best Score: 0.7786349153110851\n",
      "Best Params: {'cvec__max_df': 0.9, 'cvec__max_features': 4000, 'cvec__min_df': 2, 'cvec__ngram_range': (1, 2), 'cvec__stop_words': None}\n"
     ]
    }
   ],
   "source": [
    "gs_cv_mb.fit(X_train, y_train)\n",
    "\n",
    "# training score\n",
    "print(f'Training Score: {gs_cv_mb.score(X_train, y_train)}')\n",
    "\n",
    "# testing score\n",
    "print(f'Testing Score: {gs_cv_mb.score(X_test, y_test)}')\n",
    "\n",
    "# best score\n",
    "print(f'Best Score: {gs_cv_mb.best_score_}')\n",
    "\n",
    "# best params\n",
    "print(f'Best Params: {gs_cv_mb.best_params_}')"
   ]
  },
  {
   "cell_type": "code",
   "execution_count": 38,
   "id": "a9935127-d54c-4967-862a-f51e21fd27be",
   "metadata": {},
   "outputs": [
    {
     "data": {
      "image/png": "[encoded data removed]",
      "text/plain": [
       "<Figure size 432x288 with 2 Axes>"
      ]
     },
     "metadata": {
      "needs_background": "light"
     },
     "output_type": "display_data"
    },
    {
     "data": {
      "image/png": "[encoded data removed]",
      "text/plain": [
       "<Figure size 432x288 with 1 Axes>"
      ]
     },
     "metadata": {
      "needs_background": "light"
     },
     "output_type": "display_data"
    }
   ],
   "source": [
    "cm_roc(gs_cv_mb, X_test, y_test)"
   ]
  },
  {
   "cell_type": "markdown",
   "id": "247fffcf-8f8c-4a35-8ebf-a7153255e2aa",
   "metadata": {},
   "source": [
    "## Tiffy Diff Transformer (With Sentiment) with MNB Model <a class=\"anchor\" id=\"TFMBS\"></a>"
   ]
  },
  {
   "cell_type": "code",
   "execution_count": 39,
   "id": "263e6ab9-d6c1-48b7-8632-13696ce07250",
   "metadata": {},
   "outputs": [],
   "source": [
    "#setting up our data\n",
    "X = df[['text', 'score', 'label']]\n",
    "y = df['subreddit']\n",
    "\n",
    "X_train, X_test, y_train, y_test = train_test_split(X,\n",
    "                                                    y,\n",
    "                                                    test_size=0.33,\n",
    "                                                    stratify=y,\n",
    "                                                    random_state=42)"
   ]
  },
  {
   "cell_type": "code",
   "execution_count": 40,
   "id": "663a6480-9966-408f-bf18-90f214af4ef5",
   "metadata": {},
   "outputs": [],
   "source": [
    "ct = ColumnTransformer([\n",
    "    ## (name, transformer, column(s))\n",
    "    ## transformer can also be \"passthrough\" (to pass columns untransformed), or \"drop\" (to drop columns)\n",
    "    ('tvec', TfidfVectorizer(), 'text'),\n",
    "    ('pass', 'passthrough', ['score', 'label'])\n",
    "])"
   ]
  },
  {
   "cell_type": "code",
   "execution_count": 41,
   "id": "9bcf09e7-a1e2-4065-9ed1-daf80e4e00fd",
   "metadata": {},
   "outputs": [],
   "source": [
    "pipe_ct_tv_mb = Pipeline([\n",
    "    ('ct', ct),\n",
    "    ('mnb', MultinomialNB())\n",
    "])"
   ]
  },
  {
   "cell_type": "code",
   "execution_count": 42,
   "id": "b67b04b0-b57e-4c43-9e58-c7ca742e51c4",
   "metadata": {},
   "outputs": [],
   "source": [
    "pipecttvmb_params = {\n",
    "    'ct__tvec__max_features': [2000, 3000, 4000, 5000, None],\n",
    "    'ct__tvec__stop_words':[None, 'english'],\n",
    "    'ct__tvec__ngram_range':[(1,1), (1,2), (1,3)],\n",
    "    'ct__tvec__min_df': [1, 2, 3, 4, 5]\n",
    "}"
   ]
  },
  {
   "cell_type": "code",
   "execution_count": 43,
   "id": "3f569bba-a3de-4843-95fd-74076094e858",
   "metadata": {},
   "outputs": [],
   "source": [
    "gs_ct_tv_mb = GridSearchCV(estimator = pipe_ct_tv_mb, # what object are we optimizing?\n",
    "                  param_grid = pipecttvmb_params, # what parameters values are we searching?\n",
    "                  cv = 5,\n",
    "                  verbose = 1) # 5-fold cross-validation."
   ]
  },
  {
   "cell_type": "code",
   "execution_count": 44,
   "id": "33afa432-b006-4a5d-9849-11d9c6b22146",
   "metadata": {
    "tags": []
   },
   "outputs": [
    {
     "name": "stdout",
     "output_type": "stream",
     "text": [
      "Fitting 5 folds for each of 150 candidates, totalling 750 fits\n",
      "Training Score: 0.9094988780852655\n",
      "Testing Score: 0.7890743550834598\n",
      "Best Score: 0.7898568952987871\n",
      "Best Params: {'ct__tvec__max_features': 5000, 'ct__tvec__min_df': 2, 'ct__tvec__ngram_range': (1, 3), 'ct__tvec__stop_words': None}\n"
     ]
    }
   ],
   "source": [
    "# Fit GridSearch to training data.\n",
    "gs_ct_tv_mb.fit(X_train, y_train)\n",
    "\n",
    "# training score\n",
    "print(f'Training Score: {gs_ct_tv_mb.score(X_train, y_train)}')\n",
    "\n",
    "# testing score\n",
    "print(f'Testing Score: {gs_ct_tv_mb.score(X_test, y_test)}')\n",
    "\n",
    "# best score\n",
    "print(f'Best Score: {gs_ct_tv_mb.best_score_}')\n",
    "\n",
    "# best params\n",
    "print(f'Best Params: {gs_ct_tv_mb.best_params_}')"
   ]
  },
  {
   "cell_type": "code",
   "execution_count": 45,
   "id": "3d13ad58-a999-4997-80b1-0b511b706dd9",
   "metadata": {},
   "outputs": [
    {
     "data": {
      "image/png": "[encoded data removed]",
      "text/plain": [
       "<Figure size 432x288 with 2 Axes>"
      ]
     },
     "metadata": {
      "needs_background": "light"
     },
     "output_type": "display_data"
    },
    {
     "data": {
      "image/png": "[encoded data removed]",
      "text/plain": [
       "<Figure size 432x288 with 1 Axes>"
      ]
     },
     "metadata": {
      "needs_background": "light"
     },
     "output_type": "display_data"
    }
   ],
   "source": [
    "cm_roc(gs_ct_tv_mb, X_test, y_test)"
   ]
  },
  {
   "cell_type": "markdown",
   "id": "d5944092-5d25-4b6c-b38a-991fa5039432",
   "metadata": {},
   "source": [
    "## Tiffy Diff Transformer with MNB Model <a class=\"anchor\" id=\"TFMB\"></a>"
   ]
  },
  {
   "cell_type": "code",
   "execution_count": 46,
   "id": "fce63f4d-508b-40ae-9674-1a636fd3b5f9",
   "metadata": {},
   "outputs": [],
   "source": [
    "# setting up our training and testing data\n",
    "#setting up our data\n",
    "X = df['text']\n",
    "y = df['subreddit']\n",
    "X_train, X_test, y_train, y_test = train_test_split(X,\n",
    "                                                    y,\n",
    "                                                    test_size=0.33,\n",
    "                                                    stratify=y,\n",
    "                                                    random_state=42)"
   ]
  },
  {
   "cell_type": "code",
   "execution_count": 47,
   "id": "945cd2df-0077-4046-881a-a66e602a333f",
   "metadata": {},
   "outputs": [],
   "source": [
    "#making tvec pipe\n",
    "tvec_mb_pipe = Pipeline([\n",
    "    ('tvec', TfidfVectorizer()),\n",
    "    ('mnb', MultinomialNB())\n",
    "])"
   ]
  },
  {
   "cell_type": "code",
   "execution_count": 48,
   "id": "4bc196a7-ca28-4268-824b-db10cd8beb69",
   "metadata": {},
   "outputs": [],
   "source": [
    "# Search over the following values of hyperparameters:\n",
    "# Maximum number of features fit: 2000, 3000, 4000, 5000\n",
    "# No stop words and english stop words\n",
    "# Check (individual tokens) and also check (individual tokens and 2-grams).\n",
    "pipetfmb_params = {\n",
    "    'tvec__max_features': [2000, 3000, 4000, 5000, None],\n",
    "    'tvec__stop_words':[None, 'english'],\n",
    "    'tvec__ngram_range':[(1,1), (1,2), (1,3)],\n",
    "    'tvec__min_df': [1, 2, 3, 4, 5]\n",
    "}"
   ]
  },
  {
   "cell_type": "code",
   "execution_count": 49,
   "id": "ff3b5b6e-1854-4528-baa1-97b12ca90358",
   "metadata": {},
   "outputs": [],
   "source": [
    "# Instantiate GridSearchCV.\n",
    "gs_tv_mb = GridSearchCV(tvec_mb_pipe, param_grid = pipetfmb_params, cv = 5,\n",
    "                      verbose = 2, n_jobs = 8)"
   ]
  },
  {
   "cell_type": "code",
   "execution_count": 50,
   "id": "e7ca48d3-ab5f-4f8b-a711-56bebb84f3b2",
   "metadata": {},
   "outputs": [
    {
     "name": "stdout",
     "output_type": "stream",
     "text": [
      "Fitting 5 folds for each of 150 candidates, totalling 750 fits\n",
      "Training Score: 0.9050112191473448\n",
      "Testing Score: 0.7905918057663126\n",
      "Best Score: 0.7980938006596232\n",
      "Best Params: {'tvec__max_features': 3000, 'tvec__min_df': 2, 'tvec__ngram_range': (1, 2), 'tvec__stop_words': None}\n"
     ]
    }
   ],
   "source": [
    "# Fit GridSearch to training data.\n",
    "gs_tv_mb.fit(X_train, y_train)\n",
    "\n",
    "print(f'Training Score: {gs_tv_mb.score(X_train, y_train)}')\n",
    "\n",
    "# testing score\n",
    "print(f'Testing Score: {gs_tv_mb.score(X_test, y_test)}')\n",
    "\n",
    "# best score\n",
    "print(f'Best Score: {gs_tv_mb.best_score_}')\n",
    "\n",
    "# best params\n",
    "print(f'Best Params: {gs_tv_mb.best_params_}')"
   ]
  },
  {
   "cell_type": "code",
   "execution_count": 51,
   "id": "a7c90c51-eec9-41f0-81c7-6c41b31127b8",
   "metadata": {},
   "outputs": [
    {
     "data": {
      "image/png": "[encoded data removed]",
      "text/plain": [
       "<Figure size 432x288 with 2 Axes>"
      ]
     },
     "metadata": {
      "needs_background": "light"
     },
     "output_type": "display_data"
    },
    {
     "data": {
      "image/png": "[encoded data removed]",
      "text/plain": [
       "<Figure size 432x288 with 1 Axes>"
      ]
     },
     "metadata": {
      "needs_background": "light"
     },
     "output_type": "display_data"
    }
   ],
   "source": [
    "cm_roc(gs_tv_mb, X_test, y_test)"
   ]
  },
  {
   "cell_type": "markdown",
   "id": "9a82420a-c281-4711-b42c-146e00bc7fbd",
   "metadata": {},
   "source": [
    "## Count Vec with KNN <a class=\"anchor\" id=\"CVKN\"></a>"
   ]
  },
  {
   "cell_type": "code",
   "execution_count": 52,
   "id": "31f56e3a-a2f3-4897-a2ef-db4a44fbd463",
   "metadata": {},
   "outputs": [],
   "source": [
    "# setting up traintest split\n",
    "X_train, X_test, y_train, y_test = train_test_split(X,\n",
    "                                                    y,\n",
    "                                                    test_size=0.33,\n",
    "                                                    stratify=y,\n",
    "                                                    random_state=42)"
   ]
  },
  {
   "cell_type": "code",
   "execution_count": 53,
   "id": "5bf729d9-5e02-466f-a886-df279e3276b5",
   "metadata": {},
   "outputs": [],
   "source": [
    "# setting up neighbors pipe\n",
    "pipe_cv_kn = Pipeline([\n",
    "    ('cvec', CountVectorizer()),\n",
    "    ('knn', KNeighborsClassifier())\n",
    "])"
   ]
  },
  {
   "cell_type": "code",
   "execution_count": 54,
   "id": "539a7209-a636-4406-ba52-c66f77a0db13",
   "metadata": {},
   "outputs": [],
   "source": [
    "# setting up cvec knn params\n",
    "pipecvkn_params = {\n",
    "    'cvec__max_features': [2000,3000,4000,5000, None],\n",
    "    'cvec__min_df':[2, 3],\n",
    "    'cvec__max_df':[0.9, 0.95],\n",
    "    'cvec__ngram_range':[(1,1), (1,2)],\n",
    "    \"knn__n_neighbors\" : [10, 20, 30],\n",
    "    \"knn__weights\" : ['uniform', 'distance']\n",
    "}"
   ]
  },
  {
   "cell_type": "code",
   "execution_count": 55,
   "id": "8b015628-74d7-465e-a105-7b663b9dc625",
   "metadata": {},
   "outputs": [],
   "source": [
    "gs_cv_kn = GridSearchCV(pipe_cv_kn, # What is the model we want to fit?\n",
    "                                 pipecvkn_params, # What is the dictionary of hyperparameters?\n",
    "                                 cv=5, # What number of folds in CV will we use?\n",
    "                                 verbose=1)"
   ]
  },
  {
   "cell_type": "code",
   "execution_count": 56,
   "id": "0402e4c7-9146-469a-91b5-fd436fb045fe",
   "metadata": {
    "tags": []
   },
   "outputs": [
    {
     "name": "stdout",
     "output_type": "stream",
     "text": [
      "Fitting 5 folds for each of 240 candidates, totalling 1200 fits\n",
      "Training Score: 0.6873597606581899\n",
      "Testing Score: 0.6418816388467374\n",
      "Best Score: 0.6567387780200123\n",
      "Best Params: {'cvec__max_df': 0.9, 'cvec__max_features': 2000, 'cvec__min_df': 2, 'cvec__ngram_range': (1, 1), 'knn__n_neighbors': 20, 'knn__weights': 'uniform'}\n"
     ]
    }
   ],
   "source": [
    "gs_cv_kn.fit(X_train, y_train)\n",
    "\n",
    "print(f'Training Score: {gs_cv_kn.score(X_train, y_train)}')\n",
    "\n",
    "# testing score\n",
    "print(f'Testing Score: {gs_cv_kn.score(X_test, y_test)}')\n",
    "\n",
    "# best score\n",
    "print(f'Best Score: {gs_cv_kn.best_score_}')\n",
    "\n",
    "# best params\n",
    "print(f'Best Params: {gs_cv_kn.best_params_}')"
   ]
  },
  {
   "cell_type": "code",
   "execution_count": 57,
   "id": "8d343de9-255b-4c73-93cd-d046d2698934",
   "metadata": {},
   "outputs": [
    {
     "data": {
      "image/png": "[encoded data removed]",
      "text/plain": [
       "<Figure size 432x288 with 2 Axes>"
      ]
     },
     "metadata": {
      "needs_background": "light"
     },
     "output_type": "display_data"
    },
    {
     "data": {
      "image/png": "[encoded data removed]",
      "text/plain": [
       "<Figure size 432x288 with 1 Axes>"
      ]
     },
     "metadata": {
      "needs_background": "light"
     },
     "output_type": "display_data"
    }
   ],
   "source": [
    "cm_roc(gs_cv_kn, X_test, y_test)"
   ]
  },
  {
   "cell_type": "markdown",
   "id": "43926cbe-de9d-4bb3-9b22-cb35a115bff1",
   "metadata": {},
   "source": [
    "## Tiffy Diff with Logistic Regression <a class=\"anchor\" id=\"TFLOG\"></a>"
   ]
  },
  {
   "cell_type": "code",
   "execution_count": 58,
   "id": "85069a3c-f5b3-48de-bea5-030cebf71121",
   "metadata": {},
   "outputs": [],
   "source": [
    "#Using tfidf because it did slightly better than count vectorizer \n",
    "X_train, X_test, y_train, y_test = train_test_split(X, \n",
    "                                                    y, \n",
    "                                                    test_size=0.33,\n",
    "                                                    stratify=y,\n",
    "                                                    random_state=42)\n",
    "\n",
    "tvec = TfidfVectorizer()\n",
    "tvec.fit(X_train)\n",
    "Z_train = tvec.transform(X_train)\n",
    "Z_test = tvec.transform(X_test)"
   ]
  },
  {
   "cell_type": "code",
   "execution_count": 59,
   "id": "1c03fb10-6baf-471e-97f5-d076b566ce3d",
   "metadata": {},
   "outputs": [
    {
     "data": {
      "text/plain": [
       "LogisticRegression()"
      ]
     },
     "execution_count": 59,
     "metadata": {},
     "output_type": "execute_result"
    }
   ],
   "source": [
    "log = LogisticRegression()\n",
    "log.fit(Z_train, y_train)"
   ]
  },
  {
   "cell_type": "code",
   "execution_count": 60,
   "id": "6d571913-8dab-44bb-bc96-a4a3dfc38ffc",
   "metadata": {},
   "outputs": [
    {
     "data": {
      "text/plain": [
       "0.7950751858684107"
      ]
     },
     "execution_count": 60,
     "metadata": {},
     "output_type": "execute_result"
    }
   ],
   "source": [
    "cross_val_score(log, Z_train, y_train).mean()"
   ]
  },
  {
   "cell_type": "code",
   "execution_count": 61,
   "id": "6c8181cc-c766-4548-87b5-4624f59a81ce",
   "metadata": {},
   "outputs": [
    {
     "data": {
      "text/plain": [
       "0.7785102937774695"
      ]
     },
     "execution_count": 61,
     "metadata": {},
     "output_type": "execute_result"
    }
   ],
   "source": [
    "cross_val_score(log, Z_test, y_test).mean()"
   ]
  },
  {
   "cell_type": "code",
   "execution_count": 62,
   "id": "0c4c0228-c7dc-486f-a0e8-06559ee384f6",
   "metadata": {},
   "outputs": [
    {
     "data": {
      "image/png": "[encoded data removed]",
      "text/plain": [
       "<Figure size 432x288 with 2 Axes>"
      ]
     },
     "metadata": {
      "needs_background": "light"
     },
     "output_type": "display_data"
    },
    {
     "data": {
      "image/png": "[encoded data removed]",
      "text/plain": [
       "<Figure size 432x288 with 1 Axes>"
      ]
     },
     "metadata": {
      "needs_background": "light"
     },
     "output_type": "display_data"
    }
   ],
   "source": [
    "cm_roc(log, Z_test, y_test)"
   ]
  },
  {
   "cell_type": "markdown",
   "id": "43ed8a9c-b28c-443c-82ca-cc98c4bcc992",
   "metadata": {},
   "source": [
    "## Tiffy Diff with Linear Regression"
   ]
  },
  {
   "cell_type": "code",
   "execution_count": 63,
   "id": "b7386176-47a9-473f-8f6c-7a330ba161b1",
   "metadata": {},
   "outputs": [
    {
     "data": {
      "text/plain": [
       "LinearRegression()"
      ]
     },
     "execution_count": 63,
     "metadata": {},
     "output_type": "execute_result"
    }
   ],
   "source": [
    "# oooff\n",
    "lr = LinearRegression()\n",
    "lr.fit(Z_train, y_train)"
   ]
  },
  {
   "cell_type": "code",
   "execution_count": 64,
   "id": "87b39f66-be56-4a5f-8bee-d91fe9adeed6",
   "metadata": {},
   "outputs": [
    {
     "data": {
      "text/plain": [
       "0.20482912132442577"
      ]
     },
     "execution_count": 64,
     "metadata": {},
     "output_type": "execute_result"
    }
   ],
   "source": [
    "cross_val_score(lr, Z_train, y_train).mean()"
   ]
  },
  {
   "cell_type": "code",
   "execution_count": 65,
   "id": "76865145-477d-445f-b408-e4647d44de70",
   "metadata": {},
   "outputs": [
    {
     "data": {
      "text/plain": [
       "0.2628731182995604"
      ]
     },
     "execution_count": 65,
     "metadata": {},
     "output_type": "execute_result"
    }
   ],
   "source": [
    "cross_val_score(lr, Z_test, y_test).mean()"
   ]
  },
  {
   "cell_type": "markdown",
   "id": "101de6c1-517c-42fc-b0b4-a0bd3b942b71",
   "metadata": {},
   "source": [
    "## Tf-Idf with Random Forest <a class=\"anchor\" id=\"TFRF\"></a>"
   ]
  },
  {
   "cell_type": "code",
   "execution_count": 66,
   "id": "c405a798-3063-435a-9c0a-41e6d5a27295",
   "metadata": {
    "tags": []
   },
   "outputs": [
    {
     "data": {
      "text/plain": [
       "GridSearchCV(cv=5, estimator=RandomForestClassifier(n_jobs=6, random_state=33),\n",
       "             param_grid={'ccp_alpha': [0.03, 0.01], 'max_depth': [4, 5],\n",
       "                         'max_features': ['auto', None],\n",
       "                         'min_samples_leaf': [6, 7],\n",
       "                         'n_estimators': [65, 70, 75]})"
      ]
     },
     "execution_count": 66,
     "metadata": {},
     "output_type": "execute_result"
    }
   ],
   "source": [
    "# Set up some scaffolding \n",
    "rf = RandomForestClassifier(random_state = 33, n_jobs = 6)\n",
    "\n",
    "\n",
    "params = {\n",
    "    'n_estimators':[65,70,75],\n",
    "    'max_features': ['auto', None],\n",
    "    'max_depth' : [4,5],\n",
    "    #'min_samples_split': [3,4,5],\n",
    "    'min_samples_leaf': [6,7],\n",
    "    'ccp_alpha': [.03, .01]\n",
    "}\n",
    "\n",
    "gs_tf_rf = GridSearchCV(rf, param_grid=params, cv = 5)\n",
    "\n",
    "gs_tf_rf.fit(Z_train, y_train)\n"
   ]
  },
  {
   "cell_type": "code",
   "execution_count": 67,
   "id": "ca3897d8-cdad-40f6-967c-b0e1841d02e0",
   "metadata": {},
   "outputs": [
    {
     "name": "stdout",
     "output_type": "stream",
     "text": [
      "Training Score: 0.8025430067314884\n",
      "Testing Score: 0.787556904400607\n",
      "Best Score: 0.7980826206048409\n",
      "Best Params: {'ccp_alpha': 0.01, 'max_depth': 5, 'max_features': None, 'min_samples_leaf': 7, 'n_estimators': 70}\n"
     ]
    }
   ],
   "source": [
    "print(f'Training Score: {gs_tf_rf.score(Z_train, y_train)}')\n",
    "\n",
    "# testing score\n",
    "print(f'Testing Score: {gs_tf_rf.score(Z_test, y_test)}')\n",
    "\n",
    "# best score\n",
    "print(f'Best Score: {gs_tf_rf.best_score_}')\n",
    "\n",
    "# best params\n",
    "print(f'Best Params: {gs_tf_rf.best_params_}')"
   ]
  },
  {
   "cell_type": "code",
   "execution_count": 69,
   "id": "1fe84b92-e039-4b64-89a9-c9f8d29138cd",
   "metadata": {},
   "outputs": [
    {
     "data": {
      "image/png": "[encoded data removed]",
      "text/plain": [
       "<Figure size 432x288 with 2 Axes>"
      ]
     },
     "metadata": {
      "needs_background": "light"
     },
     "output_type": "display_data"
    },
    {
     "data": {
      "image/png": "[encoded data removed]",
      "text/plain": [
       "<Figure size 432x288 with 1 Axes>"
      ]
     },
     "metadata": {
      "needs_background": "light"
     },
     "output_type": "display_data"
    }
   ],
   "source": [
    "cm_roc(gs_tf_rf, Z_test, y_test)"
   ]
  },
  {
   "cell_type": "markdown",
   "id": "7064407d-df3c-49fa-b929-61a315a93673",
   "metadata": {},
   "source": [
    "## Tf-Idf with Decision Tree <a class=\"anchor\" id=\"TFDT\"></a>"
   ]
  },
  {
   "cell_type": "code",
   "execution_count": 70,
   "id": "2f3d55b6-2309-48ac-8503-4298dabe5f51",
   "metadata": {},
   "outputs": [
    {
     "name": "stdout",
     "output_type": "stream",
     "text": [
      "Fitting 5 folds for each of 144 candidates, totalling 720 fits\n"
     ]
    },
    {
     "data": {
      "text/plain": [
       "GridSearchCV(cv=5, estimator=DecisionTreeClassifier(random_state=42), n_jobs=4,\n",
       "             param_grid={'ccp_alpha': [0, 0.001, 0.01],\n",
       "                         'max_depth': [6, 7, 8, 9],\n",
       "                         'min_samples_leaf': [6, 7, 8, 9],\n",
       "                         'min_samples_split': [12, 15, 17]},\n",
       "             verbose=1)"
      ]
     },
     "execution_count": 70,
     "metadata": {},
     "output_type": "execute_result"
    }
   ],
   "source": [
    "dt = DecisionTreeClassifier(random_state=42)\n",
    "\n",
    "params = {\n",
    "    'max_depth' : [6, 7, 8, 9],\n",
    "    'min_samples_split' : [12,15,17],\n",
    "    'min_samples_leaf' : [6, 7, 8, 9],\n",
    "    'ccp_alpha' : [0, .001, .01]\n",
    "}\n",
    "\n",
    "gs_tf_dt = GridSearchCV(dt, param_grid = params, cv = 5, verbose = 1, n_jobs = 4)\n",
    "\n",
    "gs_tf_dt.fit(Z_train, y_train)\n",
    "\n"
   ]
  },
  {
   "cell_type": "code",
   "execution_count": 71,
   "id": "38c91978-e3d3-42a6-aef2-c22e8f00e4c5",
   "metadata": {},
   "outputs": [
    {
     "name": "stdout",
     "output_type": "stream",
     "text": [
      "Training Score: 0.8399401645474944\n",
      "Testing Score: 0.7587253414264037\n",
      "Best Score: 0.7905975739281124\n",
      "Best Params: {'ccp_alpha': 0, 'max_depth': 9, 'min_samples_leaf': 6, 'min_samples_split': 17}\n"
     ]
    }
   ],
   "source": [
    "print(f'Training Score: {gs_tf_dt.score(Z_train, y_train)}')\n",
    "\n",
    "# testing score\n",
    "print(f'Testing Score: {gs_tf_dt.score(Z_test, y_test)}')\n",
    "\n",
    "# best score\n",
    "print(f'Best Score: {gs_tf_dt.best_score_}')\n",
    "\n",
    "# best params\n",
    "print(f'Best Params: {gs_tf_dt.best_params_}')"
   ]
  },
  {
   "cell_type": "code",
   "execution_count": 72,
   "id": "6e5c4230-c7fe-4d28-b42c-19a154071e55",
   "metadata": {},
   "outputs": [
    {
     "data": {
      "image/png": "[encoded data removed]",
      "text/plain": [
       "<Figure size 432x288 with 2 Axes>"
      ]
     },
     "metadata": {
      "needs_background": "light"
     },
     "output_type": "display_data"
    },
    {
     "data": {
      "image/png": "[encoded data removed]",
      "text/plain": [
       "<Figure size 432x288 with 1 Axes>"
      ]
     },
     "metadata": {
      "needs_background": "light"
     },
     "output_type": "display_data"
    }
   ],
   "source": [
    "cm_roc(gs_tf_dt, Z_test, y_test)"
   ]
  },
  {
   "cell_type": "markdown",
   "id": "666a17f8-8675-4709-887e-0d7c8f345e18",
   "metadata": {},
   "source": [
    "## Tf Idf with SVM Model <a class=\"anchor\" id=\"TFSVM\"></a>"
   ]
  },
  {
   "cell_type": "code",
   "execution_count": 74,
   "id": "819eba00-f2f8-4a8b-a2db-d4610903ee9a",
   "metadata": {},
   "outputs": [
    {
     "name": "stdout",
     "output_type": "stream",
     "text": [
      "Fitting 5 folds for each of 240 candidates, totalling 1200 fits\n"
     ]
    },
    {
     "data": {
      "text/plain": [
       "GridSearchCV(cv=5, estimator=SVC(), n_jobs=4,\n",
       "             param_grid={'C': array([1.00000000e-05, 2.63167368e-01, 5.26324737e-01, 7.89482105e-01,\n",
       "       1.05263947e+00, 1.31579684e+00, 1.57895421e+00, 1.84211158e+00,\n",
       "       2.10526895e+00, 2.36842632e+00, 2.63158368e+00, 2.89474105e+00,\n",
       "       3.15789842e+00, 3.42105579e+00, 3.68421316e+00, 3.94737053e+00,\n",
       "       4.21052789e+00, 4.47368526e+00, 4.73684263e+00, 5.00000000e+00]),\n",
       "                         'degree': [1, 2, 3],\n",
       "                         'kernel': ['linear', 'poly', 'rbf', 'sigmoid']},\n",
       "             verbose=1)"
      ]
     },
     "execution_count": 74,
     "metadata": {},
     "output_type": "execute_result"
    }
   ],
   "source": [
    "# Instantiate SVM.\n",
    "svc = SVC()\n",
    "p_grid = {\n",
    "    \"C\" : np.linspace(0.00001, 5, 20),\n",
    "    \"kernel\" : ['linear', 'poly', 'rbf', 'sigmoid'],\n",
    "    \"degree\" : [1, 2, 3]\n",
    "}\n",
    "\n",
    "# Fit on training data.\n",
    "gs_tf_svm = GridSearchCV(svc, param_grid = p_grid, cv = 5, verbose = 1, n_jobs = 4)\n",
    "gs_tf_svm.fit(Z_train, y_train)\n"
   ]
  },
  {
   "cell_type": "code",
   "execution_count": 75,
   "id": "76d1abe9-c69a-41c4-a0b1-a870ad6ee8db",
   "metadata": {},
   "outputs": [
    {
     "name": "stdout",
     "output_type": "stream",
     "text": [
      "Training Score: 0.9222139117427075\n",
      "Testing Score: 0.7981790591805766\n",
      "Best Score: 0.8115350215216054\n",
      "Best Params: {'C': 0.5263247368421052, 'degree': 1, 'kernel': 'poly'}\n"
     ]
    }
   ],
   "source": [
    "print(f'Training Score: {gs_tf_svm.score(Z_train, y_train)}')\n",
    "\n",
    "# testing score\n",
    "print(f'Testing Score: {gs_tf_svm.score(Z_test, y_test)}')\n",
    "\n",
    "# best score\n",
    "print(f'Best Score: {gs_tf_svm.best_score_}')\n",
    "\n",
    "# best params\n",
    "print(f'Best Params: {gs_tf_svm.best_params_}')"
   ]
  },
  {
   "cell_type": "code",
   "execution_count": 76,
   "id": "6fd2fe45-7090-4770-94fb-9124afc54c3c",
   "metadata": {},
   "outputs": [
    {
     "data": {
      "image/png": "[encoded data removed]",
      "text/plain": [
       "<Figure size 432x288 with 2 Axes>"
      ]
     },
     "metadata": {
      "needs_background": "light"
     },
     "output_type": "display_data"
    },
    {
     "data": {
      "image/png": "[encoded data removed]",
      "text/plain": [
       "<Figure size 432x288 with 1 Axes>"
      ]
     },
     "metadata": {
      "needs_background": "light"
     },
     "output_type": "display_data"
    }
   ],
   "source": [
    "cm_roc(gs_tf_svm, Z_test, y_test)"
   ]
  },
  {
   "cell_type": "code",
   "execution_count": null,
   "id": "659113ec-1a30-4a42-9164-66e8ea9f3f46",
   "metadata": {},
   "outputs": [],
   "source": []
  }
 ],
 "metadata": {
  "kernelspec": {
   "display_name": "Python 3",
   "language": "python",
   "name": "python3"
  },
  "language_info": {
   "codemirror_mode": {
    "name": "ipython",
    "version": 3
   },
   "file_extension": ".py",
   "mimetype": "text/x-python",
   "name": "python",
   "nbconvert_exporter": "python",
   "pygments_lexer": "ipython3",
   "version": "3.8.8"
  }
 },
 "nbformat": 4,
 "nbformat_minor": 5
}
